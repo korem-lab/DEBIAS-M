{
 "cells": [
  {
   "cell_type": "code",
   "execution_count": 1,
   "id": "d3a05d32",
   "metadata": {},
   "outputs": [
    {
     "name": "stderr",
     "output_type": "stream",
     "text": [
      "/Users/george/opt/anaconda3/envs/pl2/lib/python3.6/site-packages/tqdm/auto.py:22: TqdmWarning: IProgress not found. Please update jupyter and ipywidgets. See https://ipywidgets.readthedocs.io/en/stable/user_install.html\n",
      "  from .autonotebook import tqdm as notebook_tqdm\n"
     ]
    }
   ],
   "source": [
    "import numpy as np\n",
    "from debiasm.multitask import MultitaskDebiasMClassifier"
   ]
  },
  {
   "cell_type": "code",
   "execution_count": 2,
   "id": "76dfda0f",
   "metadata": {},
   "outputs": [],
   "source": [
    "np.random.seed(123)\n",
    "n_samples = 96*5\n",
    "n_batches = 5\n",
    "n_features = 100\n",
    "n_tasks=10\n",
    "\n",
    "## the read count matrix\n",
    "X = ( np.random.rand(n_samples, n_features) * 1000 ).astype(int)\n",
    "\n",
    "## the labels\n",
    "y = np.random.rand(n_samples, n_tasks)>0.5 \n",
    "## specify `-1` for entries where the label is unknown\n",
    "\n",
    "## the batches\n",
    "batches = ( np.random.rand(n_samples) * n_batches ).astype(int)"
   ]
  },
  {
   "cell_type": "code",
   "execution_count": 3,
   "id": "92acd681",
   "metadata": {},
   "outputs": [],
   "source": [
    "## we assume the batches are numbered ints starting at '0',\n",
    "## and they are in the first column of the input X matrices\n",
    "## for now, you can just set the first column to all zeros if we have only one batch\n",
    "\n",
    "X_with_batch = np.hstack((batches[:, np.newaxis], X))\n",
    "X_with_batch[:5, :5]\n",
    "\n",
    "## set the valdiation batch to '4'\n",
    "val_inds = batches==4\n",
    "X_train, X_val = X_with_batch[~val_inds], X_with_batch[val_inds]\n",
    "y_train, y_val = y[~val_inds], y[val_inds]"
   ]
  },
  {
   "cell_type": "code",
   "execution_count": 4,
   "id": "af2c9310",
   "metadata": {},
   "outputs": [
    {
     "name": "stderr",
     "output_type": "stream",
     "text": [
      "/Users/george/opt/anaconda3/envs/pl2/lib/python3.6/site-packages/pytorch_lightning/trainer/connectors/callback_connector.py:91: LightningDeprecationWarning: Setting `Trainer(progress_bar_refresh_rate=1)` is deprecated in v1.5 and will be removed in v1.7. Please pass `pytorch_lightning.callbacks.progress.TQDMProgressBar` with `refresh_rate` directly to the Trainer's `callbacks` argument instead. Or, to disable the progress bar pass `enable_progress_bar = False` to the Trainer.\n",
      "  f\"Setting `Trainer(progress_bar_refresh_rate={progress_bar_refresh_rate})` is deprecated in v1.5 and\"\n",
      "/Users/george/opt/anaconda3/envs/pl2/lib/python3.6/site-packages/pytorch_lightning/trainer/connectors/callback_connector.py:168: LightningDeprecationWarning: Setting `Trainer(weights_summary=None)` is deprecated in v1.5 and will be removed in v1.7. Please set `Trainer(enable_model_summary=False)` instead.\n",
      "  \"Setting `Trainer(weights_summary=None)` is deprecated in v1.5 and will be removed\"\n",
      "GPU available: False, used: False\n",
      "TPU available: False, using: 0 TPU cores\n",
      "IPU available: False, using: 0 IPUs\n"
     ]
    },
    {
     "name": "stdout",
     "output_type": "stream",
     "text": [
      "                                                              "
     ]
    },
    {
     "name": "stderr",
     "output_type": "stream",
     "text": [
      "/Users/george/opt/anaconda3/envs/pl2/lib/python3.6/site-packages/pytorch_lightning/trainer/data_loading.py:133: UserWarning: The dataloader, val_dataloader 0, does not have many workers which may be a bottleneck. Consider increasing the value of the `num_workers` argument` (try 8 which is the number of cpus on this machine) in the `DataLoader` init to improve performance.\n",
      "  f\"The dataloader, {name}, does not have many workers which may be a bottleneck.\"\n",
      "/Users/george/Desktop/sandbox/sandbox2/debias-m-multitask-setup/debiasm/multitask.py:97: UserWarning: Implicit dimension choice for softmax has been deprecated. Change the call to include dim=X as an argument.\n",
      "  for i in range(self.hparams.n_tasks)]\n",
      "/Users/george/opt/anaconda3/envs/pl2/lib/python3.6/site-packages/pytorch_lightning/trainer/data_loading.py:133: UserWarning: The dataloader, train_dataloader, does not have many workers which may be a bottleneck. Consider increasing the value of the `num_workers` argument` (try 8 which is the number of cpus on this machine) in the `DataLoader` init to improve performance.\n",
      "  f\"The dataloader, {name}, does not have many workers which may be a bottleneck.\"\n",
      "/Users/george/opt/anaconda3/envs/pl2/lib/python3.6/site-packages/pytorch_lightning/trainer/data_loading.py:433: UserWarning: The number of training samples (22) is smaller than the logging interval Trainer(log_every_n_steps=50). Set a lower value for log_every_n_steps if you want to see logs for the training epoch.\n",
      "  f\"The number of training samples ({self.num_training_batches}) is smaller than the logging interval\"\n"
     ]
    },
    {
     "name": "stdout",
     "output_type": "stream",
     "text": [
      "Epoch 1:  88%|████████▊ | 22/25 [00:00<00:00, 133.40it/s, loss=6.94, v_num=6]\n",
      "Validating: 0it [00:00, ?it/s]\u001b[A\n",
      "Epoch 1: 100%|██████████| 25/25 [00:00<00:00, 138.34it/s, loss=6.94, v_num=6]\n",
      "Epoch 3:  88%|████████▊ | 22/25 [00:00<00:00, 142.50it/s, loss=6.93, v_num=6]\n",
      "Validating: 0it [00:00, ?it/s]\u001b[A\n",
      "Epoch 3: 100%|██████████| 25/25 [00:00<00:00, 148.79it/s, loss=6.93, v_num=6]\n",
      "Epoch 5:  88%|████████▊ | 22/25 [00:00<00:00, 162.50it/s, loss=6.92, v_num=6]\n",
      "Validating: 0it [00:00, ?it/s]\u001b[A\n",
      "Epoch 5: 100%|██████████| 25/25 [00:00<00:00, 168.61it/s, loss=6.92, v_num=6]\n",
      "Epoch 7:  88%|████████▊ | 22/25 [00:00<00:00, 160.58it/s, loss=6.92, v_num=6]\n",
      "Validating: 0it [00:00, ?it/s]\u001b[A\n",
      "Epoch 7: 100%|██████████| 25/25 [00:00<00:00, 168.80it/s, loss=6.92, v_num=6]\n",
      "Epoch 7: 100%|██████████| 25/25 [00:00<00:00, 161.65it/s, loss=6.92, v_num=6]"
     ]
    },
    {
     "name": "stderr",
     "output_type": "stream",
     "text": [
      "Trainer was signaled to stop but required minimum epochs (25) or minimum steps (None) has not been met. Training will continue...\n"
     ]
    },
    {
     "name": "stdout",
     "output_type": "stream",
     "text": [
      "Epoch 9:  88%|████████▊ | 22/25 [00:00<00:00, 163.67it/s, loss=6.92, v_num=6]\n",
      "Validating: 0it [00:00, ?it/s]\u001b[A\n",
      "Epoch 9: 100%|██████████| 25/25 [00:00<00:00, 171.09it/s, loss=6.92, v_num=6]\n",
      "Epoch 9: 100%|██████████| 25/25 [00:00<00:00, 165.35it/s, loss=6.92, v_num=6]"
     ]
    },
    {
     "name": "stderr",
     "output_type": "stream",
     "text": [
      "Trainer was signaled to stop but required minimum epochs (25) or minimum steps (None) has not been met. Training will continue...\n"
     ]
    },
    {
     "name": "stdout",
     "output_type": "stream",
     "text": [
      "Epoch 11:  88%|████████▊ | 22/25 [00:00<00:00, 165.26it/s, loss=6.92, v_num=6]\n",
      "Validating: 0it [00:00, ?it/s]\u001b[A\n",
      "Epoch 11: 100%|██████████| 25/25 [00:00<00:00, 174.84it/s, loss=6.92, v_num=6]\n",
      "Epoch 11: 100%|██████████| 25/25 [00:00<00:00, 167.65it/s, loss=6.92, v_num=6]"
     ]
    },
    {
     "name": "stderr",
     "output_type": "stream",
     "text": [
      "Trainer was signaled to stop but required minimum epochs (25) or minimum steps (None) has not been met. Training will continue...\n"
     ]
    },
    {
     "name": "stdout",
     "output_type": "stream",
     "text": [
      "Epoch 13:  88%|████████▊ | 22/25 [00:00<00:00, 147.03it/s, loss=6.91, v_num=6]\n",
      "Validating: 0it [00:00, ?it/s]\u001b[A\n",
      "Epoch 13: 100%|██████████| 25/25 [00:00<00:00, 152.96it/s, loss=6.91, v_num=6]\n",
      "Epoch 13: 100%|██████████| 25/25 [00:00<00:00, 146.46it/s, loss=6.91, v_num=6]"
     ]
    },
    {
     "name": "stderr",
     "output_type": "stream",
     "text": [
      "Trainer was signaled to stop but required minimum epochs (25) or minimum steps (None) has not been met. Training will continue...\n"
     ]
    },
    {
     "name": "stdout",
     "output_type": "stream",
     "text": [
      "Epoch 15:  88%|████████▊ | 22/25 [00:00<00:00, 118.79it/s, loss=6.91, v_num=6]\n",
      "Validating: 0it [00:00, ?it/s]\u001b[A\n",
      "Epoch 15: 100%|██████████| 25/25 [00:00<00:00, 124.63it/s, loss=6.91, v_num=6]\n",
      "Epoch 15: 100%|██████████| 25/25 [00:00<00:00, 120.80it/s, loss=6.91, v_num=6]"
     ]
    },
    {
     "name": "stderr",
     "output_type": "stream",
     "text": [
      "Trainer was signaled to stop but required minimum epochs (25) or minimum steps (None) has not been met. Training will continue...\n"
     ]
    },
    {
     "name": "stdout",
     "output_type": "stream",
     "text": [
      "Epoch 17:  88%|████████▊ | 22/25 [00:00<00:00, 141.23it/s, loss=6.91, v_num=6]\n",
      "Validating: 0it [00:00, ?it/s]\u001b[A\n",
      "Epoch 17: 100%|██████████| 25/25 [00:00<00:00, 148.53it/s, loss=6.91, v_num=6]\n",
      "Epoch 17: 100%|██████████| 25/25 [00:00<00:00, 143.83it/s, loss=6.91, v_num=6]"
     ]
    },
    {
     "name": "stderr",
     "output_type": "stream",
     "text": [
      "Trainer was signaled to stop but required minimum epochs (25) or minimum steps (None) has not been met. Training will continue...\n"
     ]
    },
    {
     "name": "stdout",
     "output_type": "stream",
     "text": [
      "Epoch 19:  88%|████████▊ | 22/25 [00:00<00:00, 139.49it/s, loss=6.91, v_num=6]\n",
      "Validating: 0it [00:00, ?it/s]\u001b[A\n",
      "Epoch 19: 100%|██████████| 25/25 [00:00<00:00, 145.85it/s, loss=6.91, v_num=6]\n",
      "Epoch 19: 100%|██████████| 25/25 [00:00<00:00, 141.04it/s, loss=6.91, v_num=6]"
     ]
    },
    {
     "name": "stderr",
     "output_type": "stream",
     "text": [
      "Trainer was signaled to stop but required minimum epochs (25) or minimum steps (None) has not been met. Training will continue...\n"
     ]
    },
    {
     "name": "stdout",
     "output_type": "stream",
     "text": [
      "Epoch 21:  88%|████████▊ | 22/25 [00:00<00:00, 139.34it/s, loss=6.91, v_num=6]\n",
      "Validating: 0it [00:00, ?it/s]\u001b[A\n",
      "Epoch 21: 100%|██████████| 25/25 [00:00<00:00, 145.69it/s, loss=6.91, v_num=6]\n",
      "Epoch 21: 100%|██████████| 25/25 [00:00<00:00, 140.57it/s, loss=6.91, v_num=6]"
     ]
    },
    {
     "name": "stderr",
     "output_type": "stream",
     "text": [
      "Trainer was signaled to stop but required minimum epochs (25) or minimum steps (None) has not been met. Training will continue...\n"
     ]
    },
    {
     "name": "stdout",
     "output_type": "stream",
     "text": [
      "Epoch 23:  88%|████████▊ | 22/25 [00:00<00:00, 146.10it/s, loss=6.9, v_num=6] \n",
      "Validating: 0it [00:00, ?it/s]\u001b[A\n",
      "Epoch 23: 100%|██████████| 25/25 [00:00<00:00, 152.23it/s, loss=6.9, v_num=6]\n",
      "Epoch 25:  88%|████████▊ | 22/25 [00:00<00:00, 143.02it/s, loss=6.9, v_num=6] \n",
      "Validating: 0it [00:00, ?it/s]\u001b[A\n",
      "Epoch 25: 100%|██████████| 25/25 [00:00<00:00, 149.57it/s, loss=6.9, v_num=6]\n",
      "Epoch 27:  88%|████████▊ | 22/25 [00:00<00:00, 131.25it/s, loss=6.9, v_num=6] \n",
      "Validating: 0it [00:00, ?it/s]\u001b[A\n",
      "Epoch 27: 100%|██████████| 25/25 [00:00<00:00, 136.07it/s, loss=6.9, v_num=6]\n",
      "Epoch 27: 100%|██████████| 25/25 [00:00<00:00, 130.31it/s, loss=6.9, v_num=6]\n"
     ]
    },
    {
     "data": {
      "text/plain": [
       "MultitaskDebiasMClassifier(batch_str=16.666666666666668,\n",
       "                           x_val=array([[  4, 456, 279, ..., 919, 415, 744],\n",
       "       [  4, 945, 290, ..., 347, 391, 310],\n",
       "       [  4, 387, 555, ..., 845, 383,  60],\n",
       "       ...,\n",
       "       [  4, 495, 628, ..., 566, 105, 939],\n",
       "       [  4, 789, 714, ..., 365, 564, 264],\n",
       "       [  4, 915, 356, ..., 113, 887, 475]]))"
      ]
     },
     "execution_count": 4,
     "metadata": {},
     "output_type": "execute_result"
    }
   ],
   "source": [
    "multitask_model = MultitaskDebiasMClassifier(x_val=X_val)\n",
    "multitask_model.fit(X_train, y_train)"
   ]
  },
  {
   "cell_type": "code",
   "execution_count": 5,
   "id": "9aa40237",
   "metadata": {},
   "outputs": [
    {
     "data": {
      "text/plain": [
       "array([[0.4566595 , 0.5433405 ],\n",
       "       [0.46096975, 0.5390302 ],\n",
       "       [0.45595884, 0.5440411 ],\n",
       "       [0.4491138 , 0.5508862 ],\n",
       "       [0.4525101 , 0.5474899 ]], dtype=float32)"
      ]
     },
     "execution_count": 5,
     "metadata": {},
     "output_type": "execute_result"
    }
   ],
   "source": [
    "# valdiation / test set predictions are stored in a list\n",
    "# where entry `n` corresponds to `predict_proba` for y column `n`\n",
    "predicted_scores = multitask_model.predict_proba(X_val)\n",
    "predicted_scores[4][:5]"
   ]
  },
  {
   "cell_type": "code",
   "execution_count": 6,
   "id": "5e06ba71",
   "metadata": {},
   "outputs": [],
   "source": [
    "## use the `transform` method to obtain the estimated debias-ed data\n",
    "X_val_debiased = multitask_model.transform(X_val)"
   ]
  },
  {
   "cell_type": "code",
   "execution_count": 7,
   "id": "50dde07f",
   "metadata": {},
   "outputs": [
    {
     "data": {
      "text/plain": [
       "array([[0.00929839, 0.00573169, 0.01731182, 0.00687   , 0.01818102],\n",
       "       [0.01778405, 0.00549835, 0.01246283, 0.00030288, 0.01622553],\n",
       "       [0.00762389, 0.01101524, 0.00025123, 0.01790328, 0.01779656],\n",
       "       [0.01523359, 0.00946336, 0.01635043, 0.01313191, 0.01081893],\n",
       "       [0.00913979, 0.00190168, 0.01647038, 0.01424095, 0.00991991]],\n",
       "      dtype=float32)"
      ]
     },
     "execution_count": 7,
     "metadata": {},
     "output_type": "execute_result"
    }
   ],
   "source": [
    "X_val_debiased[:5, :5]"
   ]
  }
 ],
 "metadata": {
  "kernelspec": {
   "display_name": "pl2",
   "language": "python",
   "name": "pl2"
  },
  "language_info": {
   "codemirror_mode": {
    "name": "ipython",
    "version": 3
   },
   "file_extension": ".py",
   "mimetype": "text/x-python",
   "name": "python",
   "nbconvert_exporter": "python",
   "pygments_lexer": "ipython3",
   "version": "3.6.15"
  }
 },
 "nbformat": 4,
 "nbformat_minor": 5
}
